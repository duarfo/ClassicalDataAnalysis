{
 "cells": [
  {
   "cell_type": "markdown",
   "metadata": {},
   "source": [
    "___\n",
    "\n",
    "<a href='http://www.pieriandata.com'> <img src='../Pierian_Data_Logo.png' /></a>\n",
    "___\n",
    "# Support Vector Machines Exercise \n",
    "\n",
    "\n",
    "## The Data\n",
    "For this series of lectures, we will be using the famous [Iris flower data set](http://en.wikipedia.org/wiki/Iris_flower_data_set). \n",
    "\n",
    "The Iris flower data set or Fisher's Iris data set is a multivariate data set introduced by Sir Ronald Fisher in the 1936 as an example of discriminant analysis. \n",
    "\n",
    "The data set consists of 50 samples from each of three species of Iris (Iris setosa, Iris virginica and Iris versicolor), so 150 total samples. Four features were measured from each sample: the length and the width of the sepals and petals, in centimeters.\n",
    "\n"
   ]
  },
  {
   "cell_type": "markdown",
   "metadata": {},
   "source": [
    "The iris dataset contains measurements for 150 iris flowers from three different species.\n",
    "\n",
    "The three classes in the Iris dataset:\n",
    "\n",
    "    Iris-setosa (n=50)\n",
    "    Iris-versicolor (n=50)\n",
    "    Iris-virginica (n=50)\n",
    "\n",
    "The four features of the Iris dataset:\n",
    "\n",
    "    sepal length in cm\n",
    "    sepal width in cm\n",
    "    petal length in cm\n",
    "    petal width in cm\n",
    "\n",
    "## Get the data\n",
    "\n",
    "**Use seaborn to get the iris data by using: iris = sns.load_dataset('iris') **"
   ]
  },
  {
   "cell_type": "code",
   "execution_count": 1,
   "metadata": {
    "collapsed": true
   },
   "outputs": [],
   "source": [
    "import pandas as pd\n",
    "import numpy as np\n",
    "import matplotlib.pyplot as plt\n",
    "import seaborn as sns\n",
    "%matplotlib inline"
   ]
  },
  {
   "cell_type": "code",
   "execution_count": 2,
   "metadata": {
    "collapsed": true
   },
   "outputs": [],
   "source": [
    "iris = sns.load_dataset('iris')"
   ]
  },
  {
   "cell_type": "code",
   "execution_count": 3,
   "metadata": {},
   "outputs": [
    {
     "data": {
      "text/plain": [
       "Index(['sepal_length', 'sepal_width', 'petal_length', 'petal_width',\n",
       "       'species'],\n",
       "      dtype='object')"
      ]
     },
     "execution_count": 3,
     "metadata": {},
     "output_type": "execute_result"
    }
   ],
   "source": [
    "iris.keys()"
   ]
  },
  {
   "cell_type": "code",
   "execution_count": 4,
   "metadata": {},
   "outputs": [
    {
     "data": {
      "text/html": [
       "<div>\n",
       "<style>\n",
       "    .dataframe thead tr:only-child th {\n",
       "        text-align: right;\n",
       "    }\n",
       "\n",
       "    .dataframe thead th {\n",
       "        text-align: left;\n",
       "    }\n",
       "\n",
       "    .dataframe tbody tr th {\n",
       "        vertical-align: top;\n",
       "    }\n",
       "</style>\n",
       "<table border=\"1\" class=\"dataframe\">\n",
       "  <thead>\n",
       "    <tr style=\"text-align: right;\">\n",
       "      <th></th>\n",
       "      <th>sepal_length</th>\n",
       "      <th>sepal_width</th>\n",
       "      <th>petal_length</th>\n",
       "      <th>petal_width</th>\n",
       "    </tr>\n",
       "  </thead>\n",
       "  <tbody>\n",
       "    <tr>\n",
       "      <th>0</th>\n",
       "      <td>5.1</td>\n",
       "      <td>3.5</td>\n",
       "      <td>1.4</td>\n",
       "      <td>0.2</td>\n",
       "    </tr>\n",
       "    <tr>\n",
       "      <th>1</th>\n",
       "      <td>4.9</td>\n",
       "      <td>3.0</td>\n",
       "      <td>1.4</td>\n",
       "      <td>0.2</td>\n",
       "    </tr>\n",
       "    <tr>\n",
       "      <th>2</th>\n",
       "      <td>4.7</td>\n",
       "      <td>3.2</td>\n",
       "      <td>1.3</td>\n",
       "      <td>0.2</td>\n",
       "    </tr>\n",
       "    <tr>\n",
       "      <th>3</th>\n",
       "      <td>4.6</td>\n",
       "      <td>3.1</td>\n",
       "      <td>1.5</td>\n",
       "      <td>0.2</td>\n",
       "    </tr>\n",
       "    <tr>\n",
       "      <th>4</th>\n",
       "      <td>5.0</td>\n",
       "      <td>3.6</td>\n",
       "      <td>1.4</td>\n",
       "      <td>0.2</td>\n",
       "    </tr>\n",
       "  </tbody>\n",
       "</table>\n",
       "</div>"
      ],
      "text/plain": [
       "   sepal_length  sepal_width  petal_length  petal_width\n",
       "0           5.1          3.5           1.4          0.2\n",
       "1           4.9          3.0           1.4          0.2\n",
       "2           4.7          3.2           1.3          0.2\n",
       "3           4.6          3.1           1.5          0.2\n",
       "4           5.0          3.6           1.4          0.2"
      ]
     },
     "execution_count": 4,
     "metadata": {},
     "output_type": "execute_result"
    }
   ],
   "source": [
    "df=pd.DataFrame(iris[['sepal_length','sepal_width','petal_length','petal_width','species']])\n",
    "df_features = pd.DataFrame(iris[['sepal_length','sepal_width','petal_length','petal_width']])\n",
    "df_target = pd.DataFrame(iris['species'])\n",
    "df_features.head()"
   ]
  },
  {
   "cell_type": "markdown",
   "metadata": {},
   "source": [
    "Let's visualize the data and get you started!\n",
    "\n",
    "## Exploratory Data Analysis\n",
    "\n",
    "Time to put your data viz skills to the test! Try to recreate the following plots, make sure to import the libraries you'll need!\n",
    "\n",
    "**Import some libraries you think you'll need.**"
   ]
  },
  {
   "cell_type": "markdown",
   "metadata": {},
   "source": [
    "** Create a pairplot of the data set. Which flower species seems to be the most separable?**"
   ]
  },
  {
   "cell_type": "code",
   "execution_count": 5,
   "metadata": {},
   "outputs": [
    {
     "data": {
      "image/png": "[encoded data removed]",
      "text/plain": [
       "<matplotlib.figure.Figure at 0x105a20048>"
      ]
     },
     "metadata": {},
     "output_type": "display_data"
    }
   ],
   "source": [
    "g = sns.PairGrid(iris, hue=\"species\")\n",
    "g = g.map_diag(plt.hist)\n",
    "g = g.map_offdiag(plt.scatter)\n",
    "g = g.add_legend()\n"
   ]
  },
  {
   "cell_type": "markdown",
   "metadata": {},
   "source": [
    "**Create a kde plot of sepal_length versus sepal width for setosa species of flower.**"
   ]
  },
  {
   "cell_type": "code",
   "execution_count": 6,
   "metadata": {},
   "outputs": [
    {
     "data": {
      "text/plain": [
       "<matplotlib.axes._subplots.AxesSubplot at 0x1a0afccb70>"
      ]
     },
     "execution_count": 6,
     "metadata": {},
     "output_type": "execute_result"
    },
    {
     "data": {
      "image/png": "[encoded data removed]",
      "text/plain": [
       "<matplotlib.figure.Figure at 0x1a0afccc50>"
      ]
     },
     "metadata": {},
     "output_type": "display_data"
    }
   ],
   "source": [
    "sns.kdeplot(iris['sepal_length'],iris['sepal_width'])"
   ]
  },
  {
   "cell_type": "code",
   "execution_count": 7,
   "metadata": {},
   "outputs": [
    {
     "data": {
      "text/html": [
       "<div>\n",
       "<style>\n",
       "    .dataframe thead tr:only-child th {\n",
       "        text-align: right;\n",
       "    }\n",
       "\n",
       "    .dataframe thead th {\n",
       "        text-align: left;\n",
       "    }\n",
       "\n",
       "    .dataframe tbody tr th {\n",
       "        vertical-align: top;\n",
       "    }\n",
       "</style>\n",
       "<table border=\"1\" class=\"dataframe\">\n",
       "  <thead>\n",
       "    <tr style=\"text-align: right;\">\n",
       "      <th></th>\n",
       "      <th>sepal_length</th>\n",
       "      <th>sepal_width</th>\n",
       "      <th>petal_length</th>\n",
       "      <th>petal_width</th>\n",
       "    </tr>\n",
       "  </thead>\n",
       "  <tbody>\n",
       "    <tr>\n",
       "      <th>count</th>\n",
       "      <td>150.000000</td>\n",
       "      <td>150.000000</td>\n",
       "      <td>150.000000</td>\n",
       "      <td>150.000000</td>\n",
       "    </tr>\n",
       "    <tr>\n",
       "      <th>mean</th>\n",
       "      <td>5.843333</td>\n",
       "      <td>3.057333</td>\n",
       "      <td>3.758000</td>\n",
       "      <td>1.199333</td>\n",
       "    </tr>\n",
       "    <tr>\n",
       "      <th>std</th>\n",
       "      <td>0.828066</td>\n",
       "      <td>0.435866</td>\n",
       "      <td>1.765298</td>\n",
       "      <td>0.762238</td>\n",
       "    </tr>\n",
       "    <tr>\n",
       "      <th>min</th>\n",
       "      <td>4.300000</td>\n",
       "      <td>2.000000</td>\n",
       "      <td>1.000000</td>\n",
       "      <td>0.100000</td>\n",
       "    </tr>\n",
       "    <tr>\n",
       "      <th>25%</th>\n",
       "      <td>5.100000</td>\n",
       "      <td>2.800000</td>\n",
       "      <td>1.600000</td>\n",
       "      <td>0.300000</td>\n",
       "    </tr>\n",
       "    <tr>\n",
       "      <th>50%</th>\n",
       "      <td>5.800000</td>\n",
       "      <td>3.000000</td>\n",
       "      <td>4.350000</td>\n",
       "      <td>1.300000</td>\n",
       "    </tr>\n",
       "    <tr>\n",
       "      <th>75%</th>\n",
       "      <td>6.400000</td>\n",
       "      <td>3.300000</td>\n",
       "      <td>5.100000</td>\n",
       "      <td>1.800000</td>\n",
       "    </tr>\n",
       "    <tr>\n",
       "      <th>max</th>\n",
       "      <td>7.900000</td>\n",
       "      <td>4.400000</td>\n",
       "      <td>6.900000</td>\n",
       "      <td>2.500000</td>\n",
       "    </tr>\n",
       "  </tbody>\n",
       "</table>\n",
       "</div>"
      ],
      "text/plain": [
       "       sepal_length  sepal_width  petal_length  petal_width\n",
       "count    150.000000   150.000000    150.000000   150.000000\n",
       "mean       5.843333     3.057333      3.758000     1.199333\n",
       "std        0.828066     0.435866      1.765298     0.762238\n",
       "min        4.300000     2.000000      1.000000     0.100000\n",
       "25%        5.100000     2.800000      1.600000     0.300000\n",
       "50%        5.800000     3.000000      4.350000     1.300000\n",
       "75%        6.400000     3.300000      5.100000     1.800000\n",
       "max        7.900000     4.400000      6.900000     2.500000"
      ]
     },
     "execution_count": 7,
     "metadata": {},
     "output_type": "execute_result"
    }
   ],
   "source": [
    "df.describe()"
   ]
  },
  {
   "cell_type": "markdown",
   "metadata": {},
   "source": [
    "# Train Test Split\n",
    "\n",
    "** Split your data into a training set and a testing set.**"
   ]
  },
  {
   "cell_type": "code",
   "execution_count": 8,
   "metadata": {
    "collapsed": true
   },
   "outputs": [],
   "source": [
    "df['species#']= df['species'].map({'setosa':0,\n",
    "             'versicolor':1,'virginica':2})"
   ]
  },
  {
   "cell_type": "code",
   "execution_count": 9,
   "metadata": {},
   "outputs": [
    {
     "data": {
      "text/plain": [
       "0    0\n",
       "1    0\n",
       "2    0\n",
       "3    0\n",
       "4    0\n",
       "Name: species#, dtype: int64"
      ]
     },
     "execution_count": 9,
     "metadata": {},
     "output_type": "execute_result"
    }
   ],
   "source": [
    "df.head()\n",
    "df_target=df['species#']\n",
    "df_target.head()"
   ]
  },
  {
   "cell_type": "code",
   "execution_count": 10,
   "metadata": {
    "collapsed": true
   },
   "outputs": [],
   "source": [
    "from sklearn.model_selection import train_test_split"
   ]
  },
  {
   "cell_type": "code",
   "execution_count": 11,
   "metadata": {
    "collapsed": true
   },
   "outputs": [],
   "source": [
    "X_train, X_test, y_train, y_test = train_test_split(df_features, df_target, test_size=0.30)"
   ]
  },
  {
   "cell_type": "markdown",
   "metadata": {},
   "source": [
    "# Train a Model\n",
    "\n",
    "Now its time to train a Support Vector Machine Classifier. \n",
    "\n",
    "**Call the SVC() model from sklearn and fit the model to the training data.**"
   ]
  },
  {
   "cell_type": "code",
   "execution_count": 12,
   "metadata": {
    "collapsed": true
   },
   "outputs": [],
   "source": [
    "from sklearn.svm import SVC"
   ]
  },
  {
   "cell_type": "code",
   "execution_count": 13,
   "metadata": {
    "collapsed": true
   },
   "outputs": [],
   "source": [
    "model = SVC()"
   ]
  },
  {
   "cell_type": "code",
   "execution_count": 14,
   "metadata": {},
   "outputs": [
    {
     "data": {
      "text/plain": [
       "SVC(C=1.0, cache_size=200, class_weight=None, coef0=0.0,\n",
       "  decision_function_shape='ovr', degree=3, gamma='auto', kernel='rbf',\n",
       "  max_iter=-1, probability=False, random_state=None, shrinking=True,\n",
       "  tol=0.001, verbose=False)"
      ]
     },
     "execution_count": 14,
     "metadata": {},
     "output_type": "execute_result"
    }
   ],
   "source": [
    "model.fit(X_train,y_train)"
   ]
  },
  {
   "cell_type": "markdown",
   "metadata": {
    "collapsed": true
   },
   "source": [
    "## Model Evaluation\n",
    "\n",
    "**Now get predictions from the model and create a confusion matrix and a classification report.**"
   ]
  },
  {
   "cell_type": "code",
   "execution_count": 15,
   "metadata": {
    "collapsed": true
   },
   "outputs": [],
   "source": [
    "predictions = model.predict(X_test)"
   ]
  },
  {
   "cell_type": "code",
   "execution_count": 16,
   "metadata": {
    "collapsed": true
   },
   "outputs": [],
   "source": [
    "from sklearn.metrics import classification_report,confusion_matrix"
   ]
  },
  {
   "cell_type": "code",
   "execution_count": 17,
   "metadata": {},
   "outputs": [
    {
     "name": "stdout",
     "output_type": "stream",
     "text": [
      "[[16  0  0]\n",
      " [ 0 12  1]\n",
      " [ 0  1 15]]\n"
     ]
    }
   ],
   "source": [
    "print(confusion_matrix(y_test,predictions))"
   ]
  },
  {
   "cell_type": "code",
   "execution_count": 18,
   "metadata": {},
   "outputs": [
    {
     "name": "stdout",
     "output_type": "stream",
     "text": [
      "             precision    recall  f1-score   support\n",
      "\n",
      "          0       1.00      1.00      1.00        16\n",
      "          1       0.92      0.92      0.92        13\n",
      "          2       0.94      0.94      0.94        16\n",
      "\n",
      "avg / total       0.96      0.96      0.96        45\n",
      "\n"
     ]
    }
   ],
   "source": [
    "print(classification_report(y_test,predictions))"
   ]
  },
  {
   "cell_type": "markdown",
   "metadata": {},
   "source": [
    "Wow! You should have noticed that your model was pretty good! Let's see if we can tune the parameters to try to get even better (unlikely, and you probably would be satisfied with these results in real like because the data set is quite small, but I just want you to practice using GridSearch."
   ]
  },
  {
   "cell_type": "markdown",
   "metadata": {},
   "source": [
    "## Gridsearch Practice\n",
    "\n",
    "** Import GridsearchCV from SciKit Learn.**"
   ]
  },
  {
   "cell_type": "code",
   "execution_count": 19,
   "metadata": {
    "collapsed": true
   },
   "outputs": [],
   "source": [
    "param_grid = {'C': [0.1,.8,.9,1,1.1,1.2,2,1.9,2.1,3 ,10, 100, 1000], 'gamma': [1,1.1,.85,.9,.95,0.1,0.01,0.001,0.0001], 'kernel': ['rbf']} "
   ]
  },
  {
   "cell_type": "markdown",
   "metadata": {},
   "source": [
    "**Create a dictionary called param_grid and fill out some parameters for C and gamma.**"
   ]
  },
  {
   "cell_type": "code",
   "execution_count": 20,
   "metadata": {
    "collapsed": true
   },
   "outputs": [],
   "source": [
    "from sklearn.model_selection import GridSearchCV"
   ]
  },
  {
   "cell_type": "markdown",
   "metadata": {},
   "source": [
    "** Create a GridSearchCV object and fit it to the training data.**"
   ]
  },
  {
   "cell_type": "code",
   "execution_count": 21,
   "metadata": {},
   "outputs": [
    {
     "name": "stdout",
     "output_type": "stream",
     "text": [
      "Fitting 3 folds for each of 117 candidates, totalling 351 fits\n",
      "[CV] C=0.1, gamma=1, kernel=rbf ......................................\n",
      "[CV]  C=0.1, gamma=1, kernel=rbf, score=0.8648648648648649, total=   0.0s\n",
      "[CV] C=0.1, gamma=1, kernel=rbf ......................................\n",
      "[CV]  C=0.1, gamma=1, kernel=rbf, score=0.9411764705882353, total=   0.0s\n",
      "[CV] C=0.1, gamma=1, kernel=rbf ......................................\n",
      "[CV]  C=0.1, gamma=1, kernel=rbf, score=0.9117647058823529, total=   0.0s\n",
      "[CV] C=0.1, gamma=1.1, kernel=rbf ....................................\n",
      "[CV]  C=0.1, gamma=1.1, kernel=rbf, score=0.8648648648648649, total=   0.0s\n",
      "[CV] C=0.1, gamma=1.1, kernel=rbf ....................................\n",
      "[CV]  C=0.1, gamma=1.1, kernel=rbf, score=0.9411764705882353, total=   0.0s\n",
      "[CV] C=0.1, gamma=1.1, kernel=rbf ....................................\n",
      "[CV]  C=0.1, gamma=1.1, kernel=rbf, score=0.9117647058823529, total=   0.0s\n",
      "[CV] C=0.1, gamma=0.85, kernel=rbf ...................................\n",
      "[CV]  C=0.1, gamma=0.85, kernel=rbf, score=0.8918918918918919, total=   0.0s\n",
      "[CV] C=0.1, gamma=0.85, kernel=rbf ...................................\n",
      "[CV]  C=0.1, gamma=0.85, kernel=rbf, score=0.9411764705882353, total=   0.0s\n",
      "[CV] C=0.1, gamma=0.85, kernel=rbf ...................................\n",
      "[CV]  C=0.1, gamma=0.85, kernel=rbf, score=0.9117647058823529, total=   0.0s\n",
      "[CV] C=0.1, gamma=0.9, kernel=rbf ....................................\n",
      "[CV]  C=0.1, gamma=0.9, kernel=rbf, score=0.8918918918918919, total=   0.0s\n",
      "[CV] C=0.1, gamma=0.9, kernel=rbf ....................................\n",
      "[CV]  C=0.1, gamma=0.9, kernel=rbf, score=0.9411764705882353, total=   0.0s\n",
      "[CV] C=0.1, gamma=0.9, kernel=rbf ....................................\n",
      "[CV]  C=0.1, gamma=0.9, kernel=rbf, score=0.9117647058823529, total=   0.0s\n",
      "[CV] C=0.1, gamma=0.95, kernel=rbf ...................................\n",
      "[CV]  C=0.1, gamma=0.95, kernel=rbf, score=0.8918918918918919, total=   0.0s\n",
      "[CV] C=0.1, gamma=0.95, kernel=rbf ...................................\n",
      "[CV]  C=0.1, gamma=0.95, kernel=rbf, score=0.9411764705882353, total=   0.0s\n",
      "[CV] C=0.1, gamma=0.95, kernel=rbf ...................................\n",
      "[CV]  C=0.1, gamma=0.95, kernel=rbf, score=0.9117647058823529, total=   0.0s\n",
      "[CV] C=0.1, gamma=0.1, kernel=rbf ....................................\n",
      "[CV]  C=0.1, gamma=0.1, kernel=rbf, score=0.7567567567567568, total=   0.0s\n",
      "[CV] C=0.1, gamma=0.1, kernel=rbf ....................................\n",
      "[CV]  C=0.1, gamma=0.1, kernel=rbf, score=0.8823529411764706, total=   0.0s\n",
      "[CV] C=0.1, gamma=0.1, kernel=rbf ....................................\n",
      "[CV]  C=0.1, gamma=0.1, kernel=rbf, score=0.8235294117647058, total=   0.0s\n",
      "[CV] C=0.1, gamma=0.01, kernel=rbf ...................................\n",
      "[CV]  C=0.1, gamma=0.01, kernel=rbf, score=0.35135135135135137, total=   0.0s\n",
      "[CV] C=0.1, gamma=0.01, kernel=rbf ...................................\n",
      "[CV]  C=0.1, gamma=0.01, kernel=rbf, score=0.35294117647058826, total=   0.0s\n",
      "[CV] C=0.1, gamma=0.01, kernel=rbf ...................................\n",
      "[CV]  C=0.1, gamma=0.01, kernel=rbf, score=0.35294117647058826, total=   0.0s\n",
      "[CV] C=0.1, gamma=0.001, kernel=rbf ..................................\n",
      "[CV]  C=0.1, gamma=0.001, kernel=rbf, score=0.35135135135135137, total=   0.0s\n",
      "[CV] C=0.1, gamma=0.001, kernel=rbf ..................................\n",
      "[CV]  C=0.1, gamma=0.001, kernel=rbf, score=0.35294117647058826, total=   0.0s\n",
      "[CV] C=0.1, gamma=0.001, kernel=rbf ..................................\n",
      "[CV]  C=0.1, gamma=0.001, kernel=rbf, score=0.35294117647058826, total=   0.0s\n",
      "[CV] C=0.1, gamma=0.0001, kernel=rbf .................................\n",
      "[CV]  C=0.1, gamma=0.0001, kernel=rbf, score=0.35135135135135137, total=   0.0s\n",
      "[CV] C=0.1, gamma=0.0001, kernel=rbf .................................\n",
      "[CV]  C=0.1, gamma=0.0001, kernel=rbf, score=0.35294117647058826, total=   0.0s\n",
      "[CV] C=0.1, gamma=0.0001, kernel=rbf .................................\n",
      "[CV]  C=0.1, gamma=0.0001, kernel=rbf, score=0.35294117647058826, total=   0.0s\n",
      "[CV] C=0.8, gamma=1, kernel=rbf ......................................\n",
      "[CV] ............ C=0.8, gamma=1, kernel=rbf, score=1.0, total=   0.0s\n",
      "[CV] C=0.8, gamma=1, kernel=rbf ......................................\n",
      "[CV]  C=0.8, gamma=1, kernel=rbf, score=0.9411764705882353, total=   0.0s\n",
      "[CV] C=0.8, gamma=1, kernel=rbf ......................................\n",
      "[CV]  C=0.8, gamma=1, kernel=rbf, score=0.9705882352941176, total=   0.0s\n",
      "[CV] C=0.8, gamma=1.1, kernel=rbf ....................................\n",
      "[CV] .......... C=0.8, gamma=1.1, kernel=rbf, score=1.0, total=   0.0s\n",
      "[CV] C=0.8, gamma=1.1, kernel=rbf ....................................\n",
      "[CV]  C=0.8, gamma=1.1, kernel=rbf, score=0.9411764705882353, total=   0.0s\n",
      "[CV] C=0.8, gamma=1.1, kernel=rbf ....................................\n",
      "[CV]  C=0.8, gamma=1.1, kernel=rbf, score=0.9705882352941176, total=   0.0s\n",
      "[CV] C=0.8, gamma=0.85, kernel=rbf ...................................\n",
      "[CV] ......... C=0.8, gamma=0.85, kernel=rbf, score=1.0, total=   0.0s\n",
      "[CV] C=0.8, gamma=0.85, kernel=rbf ...................................\n",
      "[CV]  C=0.8, gamma=0.85, kernel=rbf, score=0.9411764705882353, total=   0.0s\n",
      "[CV] C=0.8, gamma=0.85, kernel=rbf ...................................\n",
      "[CV]  C=0.8, gamma=0.85, kernel=rbf, score=0.9705882352941176, total=   0.0s\n",
      "[CV] C=0.8, gamma=0.9, kernel=rbf ....................................\n",
      "[CV] .......... C=0.8, gamma=0.9, kernel=rbf, score=1.0, total=   0.0s\n",
      "[CV] C=0.8, gamma=0.9, kernel=rbf ....................................\n",
      "[CV]  C=0.8, gamma=0.9, kernel=rbf, score=0.9411764705882353, total=   0.0s\n",
      "[CV] C=0.8, gamma=0.9, kernel=rbf ....................................\n",
      "[CV]  C=0.8, gamma=0.9, kernel=rbf, score=0.9705882352941176, total=   0.0s\n",
      "[CV] C=0.8, gamma=0.95, kernel=rbf ...................................\n",
      "[CV] ......... C=0.8, gamma=0.95, kernel=rbf, score=1.0, total=   0.0s\n",
      "[CV] C=0.8, gamma=0.95, kernel=rbf ...................................\n",
      "[CV]  C=0.8, gamma=0.95, kernel=rbf, score=0.9411764705882353, total=   0.0s\n",
      "[CV] C=0.8, gamma=0.95, kernel=rbf ...................................\n",
      "[CV]  C=0.8, gamma=0.95, kernel=rbf, score=0.9705882352941176, total=   0.0s\n",
      "[CV] C=0.8, gamma=0.1, kernel=rbf ....................................\n",
      "[CV]  C=0.8, gamma=0.1, kernel=rbf, score=0.918918918918919, total=   0.0s\n",
      "[CV] C=0.8, gamma=0.1, kernel=rbf ....................................\n",
      "[CV]  C=0.8, gamma=0.1, kernel=rbf, score=0.9705882352941176, total=   0.0s\n",
      "[CV] C=0.8, gamma=0.1, kernel=rbf ....................................\n",
      "[CV]  C=0.8, gamma=0.1, kernel=rbf, score=0.9705882352941176, total=   0.0s\n",
      "[CV] C=0.8, gamma=0.01, kernel=rbf ...................................\n",
      "[CV]  C=0.8, gamma=0.01, kernel=rbf, score=0.7567567567567568, total=   0.0s\n",
      "[CV] C=0.8, gamma=0.01, kernel=rbf ...................................\n",
      "[CV]  C=0.8, gamma=0.01, kernel=rbf, score=0.9117647058823529, total=   0.0s\n",
      "[CV] C=0.8, gamma=0.01, kernel=rbf ...................................\n",
      "[CV]  C=0.8, gamma=0.01, kernel=rbf, score=0.8823529411764706, total=   0.0s\n",
      "[CV] C=0.8, gamma=0.001, kernel=rbf ..................................\n",
      "[CV]  C=0.8, gamma=0.001, kernel=rbf, score=0.35135135135135137, total=   0.0s\n",
      "[CV] C=0.8, gamma=0.001, kernel=rbf ..................................\n",
      "[CV]  C=0.8, gamma=0.001, kernel=rbf, score=0.35294117647058826, total=   0.0s\n",
      "[CV] C=0.8, gamma=0.001, kernel=rbf ..................................\n",
      "[CV]  C=0.8, gamma=0.001, kernel=rbf, score=0.35294117647058826, total=   0.0s\n",
      "[CV] C=0.8, gamma=0.0001, kernel=rbf .................................\n",
      "[CV]  C=0.8, gamma=0.0001, kernel=rbf, score=0.35135135135135137, total=   0.0s\n",
      "[CV] C=0.8, gamma=0.0001, kernel=rbf .................................\n",
      "[CV]  C=0.8, gamma=0.0001, kernel=rbf, score=0.35294117647058826, total=   0.0s\n",
      "[CV] C=0.8, gamma=0.0001, kernel=rbf .................................\n",
      "[CV]  C=0.8, gamma=0.0001, kernel=rbf, score=0.35294117647058826, total=   0.0s\n",
      "[CV] C=0.9, gamma=1, kernel=rbf ......................................\n",
      "[CV]  C=0.9, gamma=1, kernel=rbf, score=0.972972972972973, total=   0.0s\n",
      "[CV] C=0.9, gamma=1, kernel=rbf ......................................\n",
      "[CV]  C=0.9, gamma=1, kernel=rbf, score=0.9411764705882353, total=   0.0s\n",
      "[CV] C=0.9, gamma=1, kernel=rbf ......................................\n",
      "[CV]  C=0.9, gamma=1, kernel=rbf, score=0.9705882352941176, total=   0.0s\n",
      "[CV] C=0.9, gamma=1.1, kernel=rbf ....................................\n",
      "[CV]  C=0.9, gamma=1.1, kernel=rbf, score=0.972972972972973, total=   0.0s\n",
      "[CV] C=0.9, gamma=1.1, kernel=rbf ....................................\n",
      "[CV]  C=0.9, gamma=1.1, kernel=rbf, score=0.9411764705882353, total=   0.0s\n",
      "[CV] C=0.9, gamma=1.1, kernel=rbf ....................................\n",
      "[CV]  C=0.9, gamma=1.1, kernel=rbf, score=0.9705882352941176, total=   0.0s\n",
      "[CV] C=0.9, gamma=0.85, kernel=rbf ...................................\n",
      "[CV] ......... C=0.9, gamma=0.85, kernel=rbf, score=1.0, total=   0.0s\n",
      "[CV] C=0.9, gamma=0.85, kernel=rbf ...................................\n",
      "[CV]  C=0.9, gamma=0.85, kernel=rbf, score=0.9411764705882353, total=   0.0s\n",
      "[CV] C=0.9, gamma=0.85, kernel=rbf ...................................\n",
      "[CV]  C=0.9, gamma=0.85, kernel=rbf, score=0.9705882352941176, total=   0.0s"
     ]
    },
    {
     "name": "stderr",
     "output_type": "stream",
     "text": [
      "[Parallel(n_jobs=1)]: Done   1 out of   1 | elapsed:    0.0s remaining:    0.0s\n",
      "[Parallel(n_jobs=1)]: Done   2 out of   2 | elapsed:    0.0s remaining:    0.0s\n"
     ]
    },
    {
     "name": "stdout",
     "output_type": "stream",
     "text": [
      "\n",
      "[CV] C=0.9, gamma=0.9, kernel=rbf ....................................\n",
      "[CV] .......... C=0.9, gamma=0.9, kernel=rbf, score=1.0, total=   0.0s\n",
      "[CV] C=0.9, gamma=0.9, kernel=rbf ....................................\n",
      "[CV]  C=0.9, gamma=0.9, kernel=rbf, score=0.9411764705882353, total=   0.0s\n",
      "[CV] C=0.9, gamma=0.9, kernel=rbf ....................................\n",
      "[CV]  C=0.9, gamma=0.9, kernel=rbf, score=0.9705882352941176, total=   0.0s\n",
      "[CV] C=0.9, gamma=0.95, kernel=rbf ...................................\n",
      "[CV]  C=0.9, gamma=0.95, kernel=rbf, score=0.972972972972973, total=   0.0s\n",
      "[CV] C=0.9, gamma=0.95, kernel=rbf ...................................\n",
      "[CV]  C=0.9, gamma=0.95, kernel=rbf, score=0.9411764705882353, total=   0.0s\n",
      "[CV] C=0.9, gamma=0.95, kernel=rbf ...................................\n",
      "[CV]  C=0.9, gamma=0.95, kernel=rbf, score=0.9705882352941176, total=   0.0s\n",
      "[CV] C=0.9, gamma=0.1, kernel=rbf ....................................\n",
      "[CV]  C=0.9, gamma=0.1, kernel=rbf, score=0.918918918918919, total=   0.0s\n",
      "[CV] C=0.9, gamma=0.1, kernel=rbf ....................................\n",
      "[CV]  C=0.9, gamma=0.1, kernel=rbf, score=0.9705882352941176, total=   0.0s\n",
      "[CV] C=0.9, gamma=0.1, kernel=rbf ....................................\n",
      "[CV]  C=0.9, gamma=0.1, kernel=rbf, score=0.9705882352941176, total=   0.0s\n",
      "[CV] C=0.9, gamma=0.01, kernel=rbf ...................................\n",
      "[CV]  C=0.9, gamma=0.01, kernel=rbf, score=0.8108108108108109, total=   0.0s\n",
      "[CV] C=0.9, gamma=0.01, kernel=rbf ...................................\n",
      "[CV]  C=0.9, gamma=0.01, kernel=rbf, score=0.9411764705882353, total=   0.0s\n",
      "[CV] C=0.9, gamma=0.01, kernel=rbf ...................................\n",
      "[CV]  C=0.9, gamma=0.01, kernel=rbf, score=0.8823529411764706, total=   0.0s\n",
      "[CV] C=0.9, gamma=0.001, kernel=rbf ..................................\n",
      "[CV]  C=0.9, gamma=0.001, kernel=rbf, score=0.35135135135135137, total=   0.0s\n",
      "[CV] C=0.9, gamma=0.001, kernel=rbf ..................................\n",
      "[CV]  C=0.9, gamma=0.001, kernel=rbf, score=0.35294117647058826, total=   0.0s\n",
      "[CV] C=0.9, gamma=0.001, kernel=rbf ..................................\n",
      "[CV]  C=0.9, gamma=0.001, kernel=rbf, score=0.35294117647058826, total=   0.0s\n",
      "[CV] C=0.9, gamma=0.0001, kernel=rbf .................................\n",
      "[CV]  C=0.9, gamma=0.0001, kernel=rbf, score=0.35135135135135137, total=   0.0s\n",
      "[CV] C=0.9, gamma=0.0001, kernel=rbf .................................\n",
      "[CV]  C=0.9, gamma=0.0001, kernel=rbf, score=0.35294117647058826, total=   0.0s\n",
      "[CV] C=0.9, gamma=0.0001, kernel=rbf .................................\n",
      "[CV]  C=0.9, gamma=0.0001, kernel=rbf, score=0.35294117647058826, total=   0.0s\n",
      "[CV] C=1, gamma=1, kernel=rbf ........................................\n",
      "[CV]  C=1, gamma=1, kernel=rbf, score=0.972972972972973, total=   0.0s\n",
      "[CV] C=1, gamma=1, kernel=rbf ........................................\n",
      "[CV]  C=1, gamma=1, kernel=rbf, score=0.9411764705882353, total=   0.0s\n",
      "[CV] C=1, gamma=1, kernel=rbf ........................................\n",
      "[CV]  C=1, gamma=1, kernel=rbf, score=0.9705882352941176, total=   0.0s\n",
      "[CV] C=1, gamma=1.1, kernel=rbf ......................................\n",
      "[CV]  C=1, gamma=1.1, kernel=rbf, score=0.972972972972973, total=   0.0s\n",
      "[CV] C=1, gamma=1.1, kernel=rbf ......................................\n",
      "[CV]  C=1, gamma=1.1, kernel=rbf, score=0.9411764705882353, total=   0.0s\n",
      "[CV] C=1, gamma=1.1, kernel=rbf ......................................\n",
      "[CV]  C=1, gamma=1.1, kernel=rbf, score=0.9705882352941176, total=   0.0s\n",
      "[CV] C=1, gamma=0.85, kernel=rbf .....................................\n",
      "[CV]  C=1, gamma=0.85, kernel=rbf, score=0.972972972972973, total=   0.0s\n",
      "[CV] C=1, gamma=0.85, kernel=rbf .....................................\n",
      "[CV]  C=1, gamma=0.85, kernel=rbf, score=0.9411764705882353, total=   0.0s\n",
      "[CV] C=1, gamma=0.85, kernel=rbf .....................................\n",
      "[CV]  C=1, gamma=0.85, kernel=rbf, score=0.9705882352941176, total=   0.0s\n",
      "[CV] C=1, gamma=0.9, kernel=rbf ......................................\n",
      "[CV]  C=1, gamma=0.9, kernel=rbf, score=0.972972972972973, total=   0.0s\n",
      "[CV] C=1, gamma=0.9, kernel=rbf ......................................\n",
      "[CV]  C=1, gamma=0.9, kernel=rbf, score=0.9411764705882353, total=   0.0s\n",
      "[CV] C=1, gamma=0.9, kernel=rbf ......................................\n",
      "[CV]  C=1, gamma=0.9, kernel=rbf, score=0.9705882352941176, total=   0.0s\n",
      "[CV] C=1, gamma=0.95, kernel=rbf .....................................\n",
      "[CV]  C=1, gamma=0.95, kernel=rbf, score=0.972972972972973, total=   0.0s\n",
      "[CV] C=1, gamma=0.95, kernel=rbf .....................................\n",
      "[CV]  C=1, gamma=0.95, kernel=rbf, score=0.9411764705882353, total=   0.0s\n",
      "[CV] C=1, gamma=0.95, kernel=rbf .....................................\n",
      "[CV]  C=1, gamma=0.95, kernel=rbf, score=0.9705882352941176, total=   0.0s\n",
      "[CV] C=1, gamma=0.1, kernel=rbf ......................................\n",
      "[CV]  C=1, gamma=0.1, kernel=rbf, score=0.918918918918919, total=   0.0s\n",
      "[CV] C=1, gamma=0.1, kernel=rbf ......................................\n",
      "[CV]  C=1, gamma=0.1, kernel=rbf, score=0.9705882352941176, total=   0.0s\n",
      "[CV] C=1, gamma=0.1, kernel=rbf ......................................\n",
      "[CV]  C=1, gamma=0.1, kernel=rbf, score=0.9411764705882353, total=   0.0s\n",
      "[CV] C=1, gamma=0.01, kernel=rbf .....................................\n",
      "[CV]  C=1, gamma=0.01, kernel=rbf, score=0.8108108108108109, total=   0.0s\n",
      "[CV] C=1, gamma=0.01, kernel=rbf .....................................\n",
      "[CV]  C=1, gamma=0.01, kernel=rbf, score=0.9411764705882353, total=   0.0s\n",
      "[CV] C=1, gamma=0.01, kernel=rbf .....................................\n",
      "[CV]  C=1, gamma=0.01, kernel=rbf, score=0.8823529411764706, total=   0.0s\n",
      "[CV] C=1, gamma=0.001, kernel=rbf ....................................\n",
      "[CV]  C=1, gamma=0.001, kernel=rbf, score=0.35135135135135137, total=   0.0s\n",
      "[CV] C=1, gamma=0.001, kernel=rbf ....................................\n",
      "[CV]  C=1, gamma=0.001, kernel=rbf, score=0.35294117647058826, total=   0.0s\n",
      "[CV] C=1, gamma=0.001, kernel=rbf ....................................\n",
      "[CV]  C=1, gamma=0.001, kernel=rbf, score=0.35294117647058826, total=   0.0s\n",
      "[CV] C=1, gamma=0.0001, kernel=rbf ...................................\n",
      "[CV]  C=1, gamma=0.0001, kernel=rbf, score=0.35135135135135137, total=   0.0s\n",
      "[CV] C=1, gamma=0.0001, kernel=rbf ...................................\n",
      "[CV]  C=1, gamma=0.0001, kernel=rbf, score=0.35294117647058826, total=   0.0s\n",
      "[CV] C=1, gamma=0.0001, kernel=rbf ...................................\n",
      "[CV]  C=1, gamma=0.0001, kernel=rbf, score=0.35294117647058826, total=   0.0s\n",
      "[CV] C=1.1, gamma=1, kernel=rbf ......................................\n",
      "[CV]  C=1.1, gamma=1, kernel=rbf, score=0.972972972972973, total=   0.0s\n",
      "[CV] C=1.1, gamma=1, kernel=rbf ......................................\n",
      "[CV]  C=1.1, gamma=1, kernel=rbf, score=0.9411764705882353, total=   0.0s\n",
      "[CV] C=1.1, gamma=1, kernel=rbf ......................................\n",
      "[CV]  C=1.1, gamma=1, kernel=rbf, score=0.9705882352941176, total=   0.0s\n",
      "[CV] C=1.1, gamma=1.1, kernel=rbf ....................................\n",
      "[CV]  C=1.1, gamma=1.1, kernel=rbf, score=0.972972972972973, total=   0.0s\n",
      "[CV] C=1.1, gamma=1.1, kernel=rbf ....................................\n",
      "[CV]  C=1.1, gamma=1.1, kernel=rbf, score=0.9411764705882353, total=   0.0s\n",
      "[CV] C=1.1, gamma=1.1, kernel=rbf ....................................\n",
      "[CV]  C=1.1, gamma=1.1, kernel=rbf, score=0.9705882352941176, total=   0.0s\n",
      "[CV] C=1.1, gamma=0.85, kernel=rbf ...................................\n",
      "[CV]  C=1.1, gamma=0.85, kernel=rbf, score=0.972972972972973, total=   0.0s\n",
      "[CV] C=1.1, gamma=0.85, kernel=rbf ...................................\n",
      "[CV]  C=1.1, gamma=0.85, kernel=rbf, score=0.9411764705882353, total=   0.0s\n",
      "[CV] C=1.1, gamma=0.85, kernel=rbf ...................................\n",
      "[CV]  C=1.1, gamma=0.85, kernel=rbf, score=0.9705882352941176, total=   0.0s\n",
      "[CV] C=1.1, gamma=0.9, kernel=rbf ....................................\n",
      "[CV]  C=1.1, gamma=0.9, kernel=rbf, score=0.972972972972973, total=   0.0s\n",
      "[CV] C=1.1, gamma=0.9, kernel=rbf ....................................\n",
      "[CV]  C=1.1, gamma=0.9, kernel=rbf, score=0.9411764705882353, total=   0.0s\n",
      "[CV] C=1.1, gamma=0.9, kernel=rbf ....................................\n",
      "[CV]  C=1.1, gamma=0.9, kernel=rbf, score=0.9705882352941176, total=   0.0s\n",
      "[CV] C=1.1, gamma=0.95, kernel=rbf ...................................\n",
      "[CV]  C=1.1, gamma=0.95, kernel=rbf, score=0.972972972972973, total=   0.0s\n",
      "[CV] C=1.1, gamma=0.95, kernel=rbf ...................................\n",
      "[CV]  C=1.1, gamma=0.95, kernel=rbf, score=0.9411764705882353, total=   0.0s\n",
      "[CV] C=1.1, gamma=0.95, kernel=rbf ...................................\n",
      "[CV]  C=1.1, gamma=0.95, kernel=rbf, score=0.9705882352941176, total=   0.0s\n",
      "[CV] C=1.1, gamma=0.1, kernel=rbf ....................................\n",
      "[CV]  C=1.1, gamma=0.1, kernel=rbf, score=0.918918918918919, total=   0.0s\n",
      "[CV] C=1.1, gamma=0.1, kernel=rbf ....................................\n",
      "[CV]  C=1.1, gamma=0.1, kernel=rbf, score=0.9411764705882353, total=   0.0s\n",
      "[CV] C=1.1, gamma=0.1, kernel=rbf ....................................\n",
      "[CV]  C=1.1, gamma=0.1, kernel=rbf, score=0.9411764705882353, total=   0.0s\n",
      "[CV] C=1.1, gamma=0.01, kernel=rbf ...................................\n",
      "[CV]  C=1.1, gamma=0.01, kernel=rbf, score=0.8108108108108109, total=   0.0s\n",
      "[CV] C=1.1, gamma=0.01, kernel=rbf ...................................\n",
      "[CV]  C=1.1, gamma=0.01, kernel=rbf, score=0.9117647058823529, total=   0.0s\n",
      "[CV] C=1.1, gamma=0.01, kernel=rbf ...................................\n",
      "[CV]  C=1.1, gamma=0.01, kernel=rbf, score=0.8823529411764706, total=   0.0s\n",
      "[CV] C=1.1, gamma=0.001, kernel=rbf ..................................\n",
      "[CV]  C=1.1, gamma=0.001, kernel=rbf, score=0.35135135135135137, total=   0.0s\n",
      "[CV] C=1.1, gamma=0.001, kernel=rbf ..................................\n",
      "[CV]  C=1.1, gamma=0.001, kernel=rbf, score=0.35294117647058826, total=   0.0s\n",
      "[CV] C=1.1, gamma=0.001, kernel=rbf ..................................\n",
      "[CV]  C=1.1, gamma=0.001, kernel=rbf, score=0.35294117647058826, total=   0.0s\n",
      "[CV] C=1.1, gamma=0.0001, kernel=rbf .................................\n",
      "[CV]  C=1.1, gamma=0.0001, kernel=rbf, score=0.35135135135135137, total=   0.0s\n",
      "[CV] C=1.1, gamma=0.0001, kernel=rbf .................................\n",
      "[CV]  C=1.1, gamma=0.0001, kernel=rbf, score=0.35294117647058826, total=   0.0s\n",
      "[CV] C=1.1, gamma=0.0001, kernel=rbf .................................\n",
      "[CV]  C=1.1, gamma=0.0001, kernel=rbf, score=0.35294117647058826, total=   0.0s\n",
      "[CV] C=1.2, gamma=1, kernel=rbf ......................................\n",
      "[CV]  C=1.2, gamma=1, kernel=rbf, score=0.972972972972973, total=   0.0s\n",
      "[CV] C=1.2, gamma=1, kernel=rbf ......................................\n",
      "[CV]  C=1.2, gamma=1, kernel=rbf, score=0.9411764705882353, total=   0.0s\n",
      "[CV] C=1.2, gamma=1, kernel=rbf ......................................\n",
      "[CV]  C=1.2, gamma=1, kernel=rbf, score=0.9705882352941176, total=   0.0s\n",
      "[CV] C=1.2, gamma=1.1, kernel=rbf ....................................\n",
      "[CV]  C=1.2, gamma=1.1, kernel=rbf, score=0.972972972972973, total=   0.0s\n",
      "[CV] C=1.2, gamma=1.1, kernel=rbf ....................................\n",
      "[CV]  C=1.2, gamma=1.1, kernel=rbf, score=0.9411764705882353, total=   0.0s\n",
      "[CV] C=1.2, gamma=1.1, kernel=rbf ....................................\n",
      "[CV]  C=1.2, gamma=1.1, kernel=rbf, score=0.9705882352941176, total=   0.0s\n",
      "[CV] C=1.2, gamma=0.85, kernel=rbf ...................................\n",
      "[CV]  C=1.2, gamma=0.85, kernel=rbf, score=0.972972972972973, total=   0.0s\n",
      "[CV] C=1.2, gamma=0.85, kernel=rbf ...................................\n"
     ]
    },
    {
     "name": "stdout",
     "output_type": "stream",
     "text": [
      "[CV]  C=1.2, gamma=0.85, kernel=rbf, score=0.9411764705882353, total=   0.0s\n",
      "[CV] C=1.2, gamma=0.85, kernel=rbf ...................................\n",
      "[CV]  C=1.2, gamma=0.85, kernel=rbf, score=0.9705882352941176, total=   0.0s\n",
      "[CV] C=1.2, gamma=0.9, kernel=rbf ....................................\n",
      "[CV]  C=1.2, gamma=0.9, kernel=rbf, score=0.972972972972973, total=   0.0s\n",
      "[CV] C=1.2, gamma=0.9, kernel=rbf ....................................\n",
      "[CV]  C=1.2, gamma=0.9, kernel=rbf, score=0.9411764705882353, total=   0.0s\n",
      "[CV] C=1.2, gamma=0.9, kernel=rbf ....................................\n",
      "[CV]  C=1.2, gamma=0.9, kernel=rbf, score=0.9705882352941176, total=   0.0s\n",
      "[CV] C=1.2, gamma=0.95, kernel=rbf ...................................\n",
      "[CV]  C=1.2, gamma=0.95, kernel=rbf, score=0.972972972972973, total=   0.0s\n",
      "[CV] C=1.2, gamma=0.95, kernel=rbf ...................................\n",
      "[CV]  C=1.2, gamma=0.95, kernel=rbf, score=0.9411764705882353, total=   0.0s\n",
      "[CV] C=1.2, gamma=0.95, kernel=rbf ...................................\n",
      "[CV]  C=1.2, gamma=0.95, kernel=rbf, score=0.9705882352941176, total=   0.0s\n",
      "[CV] C=1.2, gamma=0.1, kernel=rbf ....................................\n",
      "[CV]  C=1.2, gamma=0.1, kernel=rbf, score=0.918918918918919, total=   0.0s\n",
      "[CV] C=1.2, gamma=0.1, kernel=rbf ....................................\n",
      "[CV]  C=1.2, gamma=0.1, kernel=rbf, score=0.9411764705882353, total=   0.0s\n",
      "[CV] C=1.2, gamma=0.1, kernel=rbf ....................................\n",
      "[CV]  C=1.2, gamma=0.1, kernel=rbf, score=0.9411764705882353, total=   0.0s\n",
      "[CV] C=1.2, gamma=0.01, kernel=rbf ...................................\n",
      "[CV]  C=1.2, gamma=0.01, kernel=rbf, score=0.8108108108108109, total=   0.0s\n",
      "[CV] C=1.2, gamma=0.01, kernel=rbf ...................................\n",
      "[CV]  C=1.2, gamma=0.01, kernel=rbf, score=0.9117647058823529, total=   0.0s\n",
      "[CV] C=1.2, gamma=0.01, kernel=rbf ...................................\n",
      "[CV]  C=1.2, gamma=0.01, kernel=rbf, score=0.9117647058823529, total=   0.0s\n",
      "[CV] C=1.2, gamma=0.001, kernel=rbf ..................................\n",
      "[CV]  C=1.2, gamma=0.001, kernel=rbf, score=0.35135135135135137, total=   0.0s\n",
      "[CV] C=1.2, gamma=0.001, kernel=rbf ..................................\n",
      "[CV]  C=1.2, gamma=0.001, kernel=rbf, score=0.35294117647058826, total=   0.0s\n",
      "[CV] C=1.2, gamma=0.001, kernel=rbf ..................................\n",
      "[CV]  C=1.2, gamma=0.001, kernel=rbf, score=0.35294117647058826, total=   0.0s\n",
      "[CV] C=1.2, gamma=0.0001, kernel=rbf .................................\n",
      "[CV]  C=1.2, gamma=0.0001, kernel=rbf, score=0.35135135135135137, total=   0.0s\n",
      "[CV] C=1.2, gamma=0.0001, kernel=rbf .................................\n",
      "[CV]  C=1.2, gamma=0.0001, kernel=rbf, score=0.35294117647058826, total=   0.0s\n",
      "[CV] C=1.2, gamma=0.0001, kernel=rbf .................................\n",
      "[CV]  C=1.2, gamma=0.0001, kernel=rbf, score=0.35294117647058826, total=   0.0s\n",
      "[CV] C=2, gamma=1, kernel=rbf ........................................\n",
      "[CV]  C=2, gamma=1, kernel=rbf, score=0.972972972972973, total=   0.0s\n",
      "[CV] C=2, gamma=1, kernel=rbf ........................................\n",
      "[CV]  C=2, gamma=1, kernel=rbf, score=0.9411764705882353, total=   0.0s\n",
      "[CV] C=2, gamma=1, kernel=rbf ........................................\n",
      "[CV]  C=2, gamma=1, kernel=rbf, score=0.9705882352941176, total=   0.0s\n",
      "[CV] C=2, gamma=1.1, kernel=rbf ......................................\n",
      "[CV]  C=2, gamma=1.1, kernel=rbf, score=0.972972972972973, total=   0.0s\n",
      "[CV] C=2, gamma=1.1, kernel=rbf ......................................\n",
      "[CV]  C=2, gamma=1.1, kernel=rbf, score=0.9411764705882353, total=   0.0s\n",
      "[CV] C=2, gamma=1.1, kernel=rbf ......................................\n",
      "[CV]  C=2, gamma=1.1, kernel=rbf, score=0.9705882352941176, total=   0.0s\n",
      "[CV] C=2, gamma=0.85, kernel=rbf .....................................\n",
      "[CV]  C=2, gamma=0.85, kernel=rbf, score=0.972972972972973, total=   0.0s\n",
      "[CV] C=2, gamma=0.85, kernel=rbf .....................................\n",
      "[CV]  C=2, gamma=0.85, kernel=rbf, score=0.9411764705882353, total=   0.0s\n",
      "[CV] C=2, gamma=0.85, kernel=rbf .....................................\n",
      "[CV]  C=2, gamma=0.85, kernel=rbf, score=0.9705882352941176, total=   0.0s\n",
      "[CV] C=2, gamma=0.9, kernel=rbf ......................................\n",
      "[CV]  C=2, gamma=0.9, kernel=rbf, score=0.972972972972973, total=   0.0s\n",
      "[CV] C=2, gamma=0.9, kernel=rbf ......................................\n",
      "[CV]  C=2, gamma=0.9, kernel=rbf, score=0.9411764705882353, total=   0.0s\n",
      "[CV] C=2, gamma=0.9, kernel=rbf ......................................\n",
      "[CV]  C=2, gamma=0.9, kernel=rbf, score=0.9705882352941176, total=   0.0s\n",
      "[CV] C=2, gamma=0.95, kernel=rbf .....................................\n",
      "[CV]  C=2, gamma=0.95, kernel=rbf, score=0.972972972972973, total=   0.0s\n",
      "[CV] C=2, gamma=0.95, kernel=rbf .....................................\n",
      "[CV]  C=2, gamma=0.95, kernel=rbf, score=0.9411764705882353, total=   0.0s\n",
      "[CV] C=2, gamma=0.95, kernel=rbf .....................................\n",
      "[CV]  C=2, gamma=0.95, kernel=rbf, score=0.9705882352941176, total=   0.0s\n",
      "[CV] C=2, gamma=0.1, kernel=rbf ......................................\n",
      "[CV]  C=2, gamma=0.1, kernel=rbf, score=0.918918918918919, total=   0.0s\n",
      "[CV] C=2, gamma=0.1, kernel=rbf ......................................\n",
      "[CV]  C=2, gamma=0.1, kernel=rbf, score=0.9411764705882353, total=   0.0s\n",
      "[CV] C=2, gamma=0.1, kernel=rbf ......................................\n",
      "[CV]  C=2, gamma=0.1, kernel=rbf, score=0.9705882352941176, total=   0.0s\n",
      "[CV] C=2, gamma=0.01, kernel=rbf .....................................\n",
      "[CV]  C=2, gamma=0.01, kernel=rbf, score=0.8648648648648649, total=   0.0s\n",
      "[CV] C=2, gamma=0.01, kernel=rbf .....................................\n",
      "[CV]  C=2, gamma=0.01, kernel=rbf, score=0.9411764705882353, total=   0.0s\n",
      "[CV] C=2, gamma=0.01, kernel=rbf .....................................\n",
      "[CV]  C=2, gamma=0.01, kernel=rbf, score=0.9411764705882353, total=   0.0s\n",
      "[CV] C=2, gamma=0.001, kernel=rbf ....................................\n",
      "[CV]  C=2, gamma=0.001, kernel=rbf, score=0.6756756756756757, total=   0.0s\n",
      "[CV] C=2, gamma=0.001, kernel=rbf ....................................\n",
      "[CV]  C=2, gamma=0.001, kernel=rbf, score=0.6764705882352942, total=   0.0s\n",
      "[CV] C=2, gamma=0.001, kernel=rbf ....................................\n",
      "[CV]  C=2, gamma=0.001, kernel=rbf, score=0.6764705882352942, total=   0.0s\n",
      "[CV] C=2, gamma=0.0001, kernel=rbf ...................................\n",
      "[CV]  C=2, gamma=0.0001, kernel=rbf, score=0.35135135135135137, total=   0.0s\n",
      "[CV] C=2, gamma=0.0001, kernel=rbf ...................................\n",
      "[CV]  C=2, gamma=0.0001, kernel=rbf, score=0.35294117647058826, total=   0.0s\n",
      "[CV] C=2, gamma=0.0001, kernel=rbf ...................................\n",
      "[CV]  C=2, gamma=0.0001, kernel=rbf, score=0.35294117647058826, total=   0.0s\n",
      "[CV] C=1.9, gamma=1, kernel=rbf ......................................\n",
      "[CV]  C=1.9, gamma=1, kernel=rbf, score=0.972972972972973, total=   0.0s\n",
      "[CV] C=1.9, gamma=1, kernel=rbf ......................................\n",
      "[CV]  C=1.9, gamma=1, kernel=rbf, score=0.9411764705882353, total=   0.0s\n",
      "[CV] C=1.9, gamma=1, kernel=rbf ......................................\n",
      "[CV]  C=1.9, gamma=1, kernel=rbf, score=0.9705882352941176, total=   0.0s\n",
      "[CV] C=1.9, gamma=1.1, kernel=rbf ....................................\n",
      "[CV]  C=1.9, gamma=1.1, kernel=rbf, score=0.972972972972973, total=   0.0s\n",
      "[CV] C=1.9, gamma=1.1, kernel=rbf ....................................\n",
      "[CV]  C=1.9, gamma=1.1, kernel=rbf, score=0.9411764705882353, total=   0.0s\n",
      "[CV] C=1.9, gamma=1.1, kernel=rbf ....................................\n",
      "[CV]  C=1.9, gamma=1.1, kernel=rbf, score=0.9705882352941176, total=   0.0s\n",
      "[CV] C=1.9, gamma=0.85, kernel=rbf ...................................\n",
      "[CV]  C=1.9, gamma=0.85, kernel=rbf, score=0.972972972972973, total=   0.0s\n",
      "[CV] C=1.9, gamma=0.85, kernel=rbf ...................................\n",
      "[CV]  C=1.9, gamma=0.85, kernel=rbf, score=0.9411764705882353, total=   0.0s\n",
      "[CV] C=1.9, gamma=0.85, kernel=rbf ...................................\n",
      "[CV]  C=1.9, gamma=0.85, kernel=rbf, score=0.9705882352941176, total=   0.0s\n",
      "[CV] C=1.9, gamma=0.9, kernel=rbf ....................................\n",
      "[CV]  C=1.9, gamma=0.9, kernel=rbf, score=0.972972972972973, total=   0.0s\n",
      "[CV] C=1.9, gamma=0.9, kernel=rbf ....................................\n",
      "[CV]  C=1.9, gamma=0.9, kernel=rbf, score=0.9411764705882353, total=   0.0s\n",
      "[CV] C=1.9, gamma=0.9, kernel=rbf ....................................\n",
      "[CV]  C=1.9, gamma=0.9, kernel=rbf, score=0.9705882352941176, total=   0.0s\n",
      "[CV] C=1.9, gamma=0.95, kernel=rbf ...................................\n",
      "[CV]  C=1.9, gamma=0.95, kernel=rbf, score=0.972972972972973, total=   0.0s\n",
      "[CV] C=1.9, gamma=0.95, kernel=rbf ...................................\n",
      "[CV]  C=1.9, gamma=0.95, kernel=rbf, score=0.9411764705882353, total=   0.0s\n",
      "[CV] C=1.9, gamma=0.95, kernel=rbf ...................................\n",
      "[CV]  C=1.9, gamma=0.95, kernel=rbf, score=0.9705882352941176, total=   0.0s\n",
      "[CV] C=1.9, gamma=0.1, kernel=rbf ....................................\n",
      "[CV]  C=1.9, gamma=0.1, kernel=rbf, score=0.918918918918919, total=   0.0s\n",
      "[CV] C=1.9, gamma=0.1, kernel=rbf ....................................\n",
      "[CV]  C=1.9, gamma=0.1, kernel=rbf, score=0.9411764705882353, total=   0.0s\n",
      "[CV] C=1.9, gamma=0.1, kernel=rbf ....................................\n",
      "[CV]  C=1.9, gamma=0.1, kernel=rbf, score=0.9705882352941176, total=   0.0s\n",
      "[CV] C=1.9, gamma=0.01, kernel=rbf ...................................\n",
      "[CV]  C=1.9, gamma=0.01, kernel=rbf, score=0.8648648648648649, total=   0.0s\n",
      "[CV] C=1.9, gamma=0.01, kernel=rbf ...................................\n",
      "[CV]  C=1.9, gamma=0.01, kernel=rbf, score=0.9411764705882353, total=   0.0s\n",
      "[CV] C=1.9, gamma=0.01, kernel=rbf ...................................\n",
      "[CV]  C=1.9, gamma=0.01, kernel=rbf, score=0.9411764705882353, total=   0.0s\n",
      "[CV] C=1.9, gamma=0.001, kernel=rbf ..................................\n",
      "[CV]  C=1.9, gamma=0.001, kernel=rbf, score=0.6756756756756757, total=   0.0s\n",
      "[CV] C=1.9, gamma=0.001, kernel=rbf ..................................\n",
      "[CV]  C=1.9, gamma=0.001, kernel=rbf, score=0.6470588235294118, total=   0.0s\n",
      "[CV] C=1.9, gamma=0.001, kernel=rbf ..................................\n",
      "[CV]  C=1.9, gamma=0.001, kernel=rbf, score=0.6470588235294118, total=   0.0s\n",
      "[CV] C=1.9, gamma=0.0001, kernel=rbf .................................\n",
      "[CV]  C=1.9, gamma=0.0001, kernel=rbf, score=0.35135135135135137, total=   0.0s\n",
      "[CV] C=1.9, gamma=0.0001, kernel=rbf .................................\n",
      "[CV]  C=1.9, gamma=0.0001, kernel=rbf, score=0.35294117647058826, total=   0.0s\n",
      "[CV] C=1.9, gamma=0.0001, kernel=rbf .................................\n",
      "[CV]  C=1.9, gamma=0.0001, kernel=rbf, score=0.35294117647058826, total=   0.0s\n",
      "[CV] C=2.1, gamma=1, kernel=rbf ......................................\n",
      "[CV]  C=2.1, gamma=1, kernel=rbf, score=0.972972972972973, total=   0.0s\n",
      "[CV] C=2.1, gamma=1, kernel=rbf ......................................\n",
      "[CV]  C=2.1, gamma=1, kernel=rbf, score=0.9411764705882353, total=   0.0s\n",
      "[CV] C=2.1, gamma=1, kernel=rbf ......................................\n",
      "[CV]  C=2.1, gamma=1, kernel=rbf, score=0.9705882352941176, total=   0.0s\n",
      "[CV] C=2.1, gamma=1.1, kernel=rbf ....................................\n",
      "[CV]  C=2.1, gamma=1.1, kernel=rbf, score=0.972972972972973, total=   0.0s\n",
      "[CV] C=2.1, gamma=1.1, kernel=rbf ....................................\n",
      "[CV]  C=2.1, gamma=1.1, kernel=rbf, score=0.9411764705882353, total=   0.0s\n",
      "[CV] C=2.1, gamma=1.1, kernel=rbf ....................................\n",
      "[CV]  C=2.1, gamma=1.1, kernel=rbf, score=0.9705882352941176, total=   0.0s\n",
      "[CV] C=2.1, gamma=0.85, kernel=rbf ...................................\n",
      "[CV]  C=2.1, gamma=0.85, kernel=rbf, score=0.972972972972973, total=   0.0s\n",
      "[CV] C=2.1, gamma=0.85, kernel=rbf ...................................\n",
      "[CV]  C=2.1, gamma=0.85, kernel=rbf, score=0.9411764705882353, total=   0.0s\n"
     ]
    },
    {
     "name": "stdout",
     "output_type": "stream",
     "text": [
      "[CV] C=2.1, gamma=0.85, kernel=rbf ...................................\n",
      "[CV]  C=2.1, gamma=0.85, kernel=rbf, score=0.9705882352941176, total=   0.0s\n",
      "[CV] C=2.1, gamma=0.9, kernel=rbf ....................................\n",
      "[CV]  C=2.1, gamma=0.9, kernel=rbf, score=0.972972972972973, total=   0.0s\n",
      "[CV] C=2.1, gamma=0.9, kernel=rbf ....................................\n",
      "[CV]  C=2.1, gamma=0.9, kernel=rbf, score=0.9411764705882353, total=   0.0s\n",
      "[CV] C=2.1, gamma=0.9, kernel=rbf ....................................\n",
      "[CV]  C=2.1, gamma=0.9, kernel=rbf, score=0.9705882352941176, total=   0.0s\n",
      "[CV] C=2.1, gamma=0.95, kernel=rbf ...................................\n",
      "[CV]  C=2.1, gamma=0.95, kernel=rbf, score=0.972972972972973, total=   0.0s\n",
      "[CV] C=2.1, gamma=0.95, kernel=rbf ...................................\n",
      "[CV]  C=2.1, gamma=0.95, kernel=rbf, score=0.9411764705882353, total=   0.0s\n",
      "[CV] C=2.1, gamma=0.95, kernel=rbf ...................................\n",
      "[CV]  C=2.1, gamma=0.95, kernel=rbf, score=0.9705882352941176, total=   0.0s\n",
      "[CV] C=2.1, gamma=0.1, kernel=rbf ....................................\n",
      "[CV]  C=2.1, gamma=0.1, kernel=rbf, score=0.918918918918919, total=   0.0s\n",
      "[CV] C=2.1, gamma=0.1, kernel=rbf ....................................\n",
      "[CV]  C=2.1, gamma=0.1, kernel=rbf, score=0.9411764705882353, total=   0.0s\n",
      "[CV] C=2.1, gamma=0.1, kernel=rbf ....................................\n",
      "[CV]  C=2.1, gamma=0.1, kernel=rbf, score=0.9705882352941176, total=   0.0s\n",
      "[CV] C=2.1, gamma=0.01, kernel=rbf ...................................\n",
      "[CV]  C=2.1, gamma=0.01, kernel=rbf, score=0.8648648648648649, total=   0.0s\n",
      "[CV] C=2.1, gamma=0.01, kernel=rbf ...................................\n",
      "[CV]  C=2.1, gamma=0.01, kernel=rbf, score=0.9411764705882353, total=   0.0s\n",
      "[CV] C=2.1, gamma=0.01, kernel=rbf ...................................\n",
      "[CV]  C=2.1, gamma=0.01, kernel=rbf, score=0.9117647058823529, total=   0.0s\n",
      "[CV] C=2.1, gamma=0.001, kernel=rbf ..................................\n",
      "[CV]  C=2.1, gamma=0.001, kernel=rbf, score=0.6756756756756757, total=   0.0s\n",
      "[CV] C=2.1, gamma=0.001, kernel=rbf ..................................\n",
      "[CV]  C=2.1, gamma=0.001, kernel=rbf, score=0.6764705882352942, total=   0.0s\n",
      "[CV] C=2.1, gamma=0.001, kernel=rbf ..................................\n",
      "[CV]  C=2.1, gamma=0.001, kernel=rbf, score=0.6764705882352942, total=   0.0s\n",
      "[CV] C=2.1, gamma=0.0001, kernel=rbf .................................\n",
      "[CV]  C=2.1, gamma=0.0001, kernel=rbf, score=0.35135135135135137, total=   0.0s\n",
      "[CV] C=2.1, gamma=0.0001, kernel=rbf .................................\n",
      "[CV]  C=2.1, gamma=0.0001, kernel=rbf, score=0.35294117647058826, total=   0.0s\n",
      "[CV] C=2.1, gamma=0.0001, kernel=rbf .................................\n",
      "[CV]  C=2.1, gamma=0.0001, kernel=rbf, score=0.35294117647058826, total=   0.0s\n",
      "[CV] C=3, gamma=1, kernel=rbf ........................................\n",
      "[CV]  C=3, gamma=1, kernel=rbf, score=0.972972972972973, total=   0.0s\n",
      "[CV] C=3, gamma=1, kernel=rbf ........................................\n",
      "[CV]  C=3, gamma=1, kernel=rbf, score=0.9411764705882353, total=   0.0s\n",
      "[CV] C=3, gamma=1, kernel=rbf ........................................\n",
      "[CV]  C=3, gamma=1, kernel=rbf, score=0.9705882352941176, total=   0.0s\n",
      "[CV] C=3, gamma=1.1, kernel=rbf ......................................\n",
      "[CV]  C=3, gamma=1.1, kernel=rbf, score=0.972972972972973, total=   0.0s\n",
      "[CV] C=3, gamma=1.1, kernel=rbf ......................................\n",
      "[CV]  C=3, gamma=1.1, kernel=rbf, score=0.9411764705882353, total=   0.0s\n",
      "[CV] C=3, gamma=1.1, kernel=rbf ......................................\n",
      "[CV]  C=3, gamma=1.1, kernel=rbf, score=0.9705882352941176, total=   0.0s\n",
      "[CV] C=3, gamma=0.85, kernel=rbf .....................................\n",
      "[CV]  C=3, gamma=0.85, kernel=rbf, score=0.972972972972973, total=   0.0s\n",
      "[CV] C=3, gamma=0.85, kernel=rbf .....................................\n",
      "[CV]  C=3, gamma=0.85, kernel=rbf, score=0.9411764705882353, total=   0.0s\n",
      "[CV] C=3, gamma=0.85, kernel=rbf .....................................\n",
      "[CV]  C=3, gamma=0.85, kernel=rbf, score=0.9705882352941176, total=   0.0s\n",
      "[CV] C=3, gamma=0.9, kernel=rbf ......................................\n",
      "[CV]  C=3, gamma=0.9, kernel=rbf, score=0.972972972972973, total=   0.0s\n",
      "[CV] C=3, gamma=0.9, kernel=rbf ......................................\n",
      "[CV]  C=3, gamma=0.9, kernel=rbf, score=0.9411764705882353, total=   0.0s\n",
      "[CV] C=3, gamma=0.9, kernel=rbf ......................................\n",
      "[CV]  C=3, gamma=0.9, kernel=rbf, score=0.9705882352941176, total=   0.0s\n",
      "[CV] C=3, gamma=0.95, kernel=rbf .....................................\n",
      "[CV]  C=3, gamma=0.95, kernel=rbf, score=0.972972972972973, total=   0.0s\n",
      "[CV] C=3, gamma=0.95, kernel=rbf .....................................\n",
      "[CV]  C=3, gamma=0.95, kernel=rbf, score=0.9411764705882353, total=   0.0s\n",
      "[CV] C=3, gamma=0.95, kernel=rbf .....................................\n",
      "[CV]  C=3, gamma=0.95, kernel=rbf, score=0.9705882352941176, total=   0.0s\n",
      "[CV] C=3, gamma=0.1, kernel=rbf ......................................\n",
      "[CV]  C=3, gamma=0.1, kernel=rbf, score=0.972972972972973, total=   0.0s\n",
      "[CV] C=3, gamma=0.1, kernel=rbf ......................................\n",
      "[CV]  C=3, gamma=0.1, kernel=rbf, score=0.9411764705882353, total=   0.0s\n",
      "[CV] C=3, gamma=0.1, kernel=rbf ......................................\n",
      "[CV]  C=3, gamma=0.1, kernel=rbf, score=0.9705882352941176, total=   0.0s\n",
      "[CV] C=3, gamma=0.01, kernel=rbf .....................................\n",
      "[CV]  C=3, gamma=0.01, kernel=rbf, score=0.8648648648648649, total=   0.0s\n",
      "[CV] C=3, gamma=0.01, kernel=rbf .....................................\n",
      "[CV]  C=3, gamma=0.01, kernel=rbf, score=0.9411764705882353, total=   0.0s\n",
      "[CV] C=3, gamma=0.01, kernel=rbf .....................................\n",
      "[CV]  C=3, gamma=0.01, kernel=rbf, score=0.9117647058823529, total=   0.0s\n",
      "[CV] C=3, gamma=0.001, kernel=rbf ....................................\n",
      "[CV]  C=3, gamma=0.001, kernel=rbf, score=0.6756756756756757, total=   0.0s\n",
      "[CV] C=3, gamma=0.001, kernel=rbf ....................................\n",
      "[CV]  C=3, gamma=0.001, kernel=rbf, score=0.6764705882352942, total=   0.0s\n",
      "[CV] C=3, gamma=0.001, kernel=rbf ....................................\n",
      "[CV]  C=3, gamma=0.001, kernel=rbf, score=0.6764705882352942, total=   0.0s\n",
      "[CV] C=3, gamma=0.0001, kernel=rbf ...................................\n",
      "[CV]  C=3, gamma=0.0001, kernel=rbf, score=0.35135135135135137, total=   0.0s\n",
      "[CV] C=3, gamma=0.0001, kernel=rbf ...................................\n",
      "[CV]  C=3, gamma=0.0001, kernel=rbf, score=0.35294117647058826, total=   0.0s\n",
      "[CV] C=3, gamma=0.0001, kernel=rbf ...................................\n",
      "[CV]  C=3, gamma=0.0001, kernel=rbf, score=0.35294117647058826, total=   0.0s\n",
      "[CV] C=10, gamma=1, kernel=rbf .......................................\n",
      "[CV]  C=10, gamma=1, kernel=rbf, score=0.9459459459459459, total=   0.0s\n",
      "[CV] C=10, gamma=1, kernel=rbf .......................................\n",
      "[CV]  C=10, gamma=1, kernel=rbf, score=0.9117647058823529, total=   0.0s\n",
      "[CV] C=10, gamma=1, kernel=rbf .......................................\n",
      "[CV]  C=10, gamma=1, kernel=rbf, score=0.9705882352941176, total=   0.0s\n",
      "[CV] C=10, gamma=1.1, kernel=rbf .....................................\n",
      "[CV]  C=10, gamma=1.1, kernel=rbf, score=0.9459459459459459, total=   0.0s\n",
      "[CV] C=10, gamma=1.1, kernel=rbf .....................................\n",
      "[CV]  C=10, gamma=1.1, kernel=rbf, score=0.9117647058823529, total=   0.0s\n",
      "[CV] C=10, gamma=1.1, kernel=rbf .....................................\n",
      "[CV]  C=10, gamma=1.1, kernel=rbf, score=0.9705882352941176, total=   0.0s\n",
      "[CV] C=10, gamma=0.85, kernel=rbf ....................................\n",
      "[CV]  C=10, gamma=0.85, kernel=rbf, score=0.9459459459459459, total=   0.0s\n",
      "[CV] C=10, gamma=0.85, kernel=rbf ....................................\n",
      "[CV]  C=10, gamma=0.85, kernel=rbf, score=0.9411764705882353, total=   0.0s\n",
      "[CV] C=10, gamma=0.85, kernel=rbf ....................................\n",
      "[CV]  C=10, gamma=0.85, kernel=rbf, score=0.9705882352941176, total=   0.0s\n",
      "[CV] C=10, gamma=0.9, kernel=rbf .....................................\n",
      "[CV]  C=10, gamma=0.9, kernel=rbf, score=0.9459459459459459, total=   0.0s\n",
      "[CV] C=10, gamma=0.9, kernel=rbf .....................................\n",
      "[CV]  C=10, gamma=0.9, kernel=rbf, score=0.9411764705882353, total=   0.0s\n",
      "[CV] C=10, gamma=0.9, kernel=rbf .....................................\n",
      "[CV]  C=10, gamma=0.9, kernel=rbf, score=0.9705882352941176, total=   0.0s\n",
      "[CV] C=10, gamma=0.95, kernel=rbf ....................................\n",
      "[CV]  C=10, gamma=0.95, kernel=rbf, score=0.9459459459459459, total=   0.0s\n",
      "[CV] C=10, gamma=0.95, kernel=rbf ....................................\n",
      "[CV]  C=10, gamma=0.95, kernel=rbf, score=0.9117647058823529, total=   0.0s\n",
      "[CV] C=10, gamma=0.95, kernel=rbf ....................................\n",
      "[CV]  C=10, gamma=0.95, kernel=rbf, score=0.9705882352941176, total=   0.0s\n",
      "[CV] C=10, gamma=0.1, kernel=rbf .....................................\n",
      "[CV] ........... C=10, gamma=0.1, kernel=rbf, score=1.0, total=   0.0s\n",
      "[CV] C=10, gamma=0.1, kernel=rbf .....................................\n",
      "[CV]  C=10, gamma=0.1, kernel=rbf, score=0.9411764705882353, total=   0.0s\n",
      "[CV] C=10, gamma=0.1, kernel=rbf .....................................\n",
      "[CV]  C=10, gamma=0.1, kernel=rbf, score=0.9705882352941176, total=   0.0s\n",
      "[CV] C=10, gamma=0.01, kernel=rbf ....................................\n",
      "[CV]  C=10, gamma=0.01, kernel=rbf, score=0.918918918918919, total=   0.0s\n",
      "[CV] C=10, gamma=0.01, kernel=rbf ....................................\n",
      "[CV]  C=10, gamma=0.01, kernel=rbf, score=0.9411764705882353, total=   0.0s\n",
      "[CV] C=10, gamma=0.01, kernel=rbf ....................................\n",
      "[CV]  C=10, gamma=0.01, kernel=rbf, score=0.9411764705882353, total=   0.0s\n",
      "[CV] C=10, gamma=0.001, kernel=rbf ...................................\n",
      "[CV]  C=10, gamma=0.001, kernel=rbf, score=0.8108108108108109, total=   0.0s\n",
      "[CV] C=10, gamma=0.001, kernel=rbf ...................................\n",
      "[CV]  C=10, gamma=0.001, kernel=rbf, score=0.9117647058823529, total=   0.0s\n",
      "[CV] C=10, gamma=0.001, kernel=rbf ...................................\n",
      "[CV]  C=10, gamma=0.001, kernel=rbf, score=0.8823529411764706, total=   0.0s\n",
      "[CV] C=10, gamma=0.0001, kernel=rbf ..................................\n",
      "[CV]  C=10, gamma=0.0001, kernel=rbf, score=0.35135135135135137, total=   0.0s\n",
      "[CV] C=10, gamma=0.0001, kernel=rbf ..................................\n",
      "[CV]  C=10, gamma=0.0001, kernel=rbf, score=0.35294117647058826, total=   0.0s\n",
      "[CV] C=10, gamma=0.0001, kernel=rbf ..................................\n",
      "[CV]  C=10, gamma=0.0001, kernel=rbf, score=0.35294117647058826, total=   0.0s\n",
      "[CV] C=100, gamma=1, kernel=rbf ......................................\n",
      "[CV]  C=100, gamma=1, kernel=rbf, score=0.918918918918919, total=   0.0s\n",
      "[CV] C=100, gamma=1, kernel=rbf ......................................\n",
      "[CV]  C=100, gamma=1, kernel=rbf, score=0.9411764705882353, total=   0.0s\n",
      "[CV] C=100, gamma=1, kernel=rbf ......................................\n",
      "[CV]  C=100, gamma=1, kernel=rbf, score=0.9117647058823529, total=   0.0s\n",
      "[CV] C=100, gamma=1.1, kernel=rbf ....................................\n",
      "[CV]  C=100, gamma=1.1, kernel=rbf, score=0.918918918918919, total=   0.0s\n",
      "[CV] C=100, gamma=1.1, kernel=rbf ....................................\n",
      "[CV]  C=100, gamma=1.1, kernel=rbf, score=0.9411764705882353, total=   0.0s\n",
      "[CV] C=100, gamma=1.1, kernel=rbf ....................................\n",
      "[CV]  C=100, gamma=1.1, kernel=rbf, score=0.9411764705882353, total=   0.0s\n",
      "[CV] C=100, gamma=0.85, kernel=rbf ...................................\n",
      "[CV]  C=100, gamma=0.85, kernel=rbf, score=0.918918918918919, total=   0.0s\n",
      "[CV] C=100, gamma=0.85, kernel=rbf ...................................\n",
      "[CV]  C=100, gamma=0.85, kernel=rbf, score=0.9411764705882353, total=   0.0s\n",
      "[CV] C=100, gamma=0.85, kernel=rbf ...................................\n",
      "[CV]  C=100, gamma=0.85, kernel=rbf, score=0.9117647058823529, total=   0.0s\n",
      "[CV] C=100, gamma=0.9, kernel=rbf ....................................\n",
      "[CV]  C=100, gamma=0.9, kernel=rbf, score=0.918918918918919, total=   0.0s\n",
      "[CV] C=100, gamma=0.9, kernel=rbf ....................................\n",
      "[CV]  C=100, gamma=0.9, kernel=rbf, score=0.9411764705882353, total=   0.0s\n",
      "[CV] C=100, gamma=0.9, kernel=rbf ....................................\n",
      "[CV]  C=100, gamma=0.9, kernel=rbf, score=0.9117647058823529, total=   0.0s\n",
      "[CV] C=100, gamma=0.95, kernel=rbf ...................................\n",
      "[CV]  C=100, gamma=0.95, kernel=rbf, score=0.918918918918919, total=   0.0s\n",
      "[CV] C=100, gamma=0.95, kernel=rbf ...................................\n",
      "[CV]  C=100, gamma=0.95, kernel=rbf, score=0.9411764705882353, total=   0.0s\n",
      "[CV] C=100, gamma=0.95, kernel=rbf ...................................\n",
      "[CV]  C=100, gamma=0.95, kernel=rbf, score=0.9117647058823529, total=   0.0s\n"
     ]
    },
    {
     "name": "stdout",
     "output_type": "stream",
     "text": [
      "[CV] C=100, gamma=0.1, kernel=rbf ....................................\n",
      "[CV]  C=100, gamma=0.1, kernel=rbf, score=0.972972972972973, total=   0.0s\n",
      "[CV] C=100, gamma=0.1, kernel=rbf ....................................\n",
      "[CV]  C=100, gamma=0.1, kernel=rbf, score=0.9117647058823529, total=   0.0s\n",
      "[CV] C=100, gamma=0.1, kernel=rbf ....................................\n",
      "[CV]  C=100, gamma=0.1, kernel=rbf, score=0.9117647058823529, total=   0.0s\n",
      "[CV] C=100, gamma=0.01, kernel=rbf ...................................\n",
      "[CV]  C=100, gamma=0.01, kernel=rbf, score=0.972972972972973, total=   0.0s\n",
      "[CV] C=100, gamma=0.01, kernel=rbf ...................................\n",
      "[CV]  C=100, gamma=0.01, kernel=rbf, score=0.9411764705882353, total=   0.0s\n",
      "[CV] C=100, gamma=0.01, kernel=rbf ...................................\n",
      "[CV]  C=100, gamma=0.01, kernel=rbf, score=0.9705882352941176, total=   0.0s\n",
      "[CV] C=100, gamma=0.001, kernel=rbf ..................................\n",
      "[CV]  C=100, gamma=0.001, kernel=rbf, score=0.918918918918919, total=   0.0s\n",
      "[CV] C=100, gamma=0.001, kernel=rbf ..................................\n",
      "[CV]  C=100, gamma=0.001, kernel=rbf, score=0.9705882352941176, total=   0.0s\n",
      "[CV] C=100, gamma=0.001, kernel=rbf ..................................\n",
      "[CV]  C=100, gamma=0.001, kernel=rbf, score=0.9411764705882353, total=   0.0s\n",
      "[CV] C=100, gamma=0.0001, kernel=rbf .................................\n",
      "[CV]  C=100, gamma=0.0001, kernel=rbf, score=0.8108108108108109, total=   0.0s\n",
      "[CV] C=100, gamma=0.0001, kernel=rbf .................................\n",
      "[CV]  C=100, gamma=0.0001, kernel=rbf, score=0.9117647058823529, total=   0.0s\n",
      "[CV] C=100, gamma=0.0001, kernel=rbf .................................\n",
      "[CV]  C=100, gamma=0.0001, kernel=rbf, score=0.8823529411764706, total=   0.0s\n",
      "[CV] C=1000, gamma=1, kernel=rbf .....................................\n",
      "[CV]  C=1000, gamma=1, kernel=rbf, score=0.918918918918919, total=   0.0s\n",
      "[CV] C=1000, gamma=1, kernel=rbf .....................................\n",
      "[CV]  C=1000, gamma=1, kernel=rbf, score=0.9411764705882353, total=   0.0s\n",
      "[CV] C=1000, gamma=1, kernel=rbf .....................................\n",
      "[CV]  C=1000, gamma=1, kernel=rbf, score=0.9117647058823529, total=   0.0s\n",
      "[CV] C=1000, gamma=1.1, kernel=rbf ...................................\n",
      "[CV]  C=1000, gamma=1.1, kernel=rbf, score=0.918918918918919, total=   0.0s\n",
      "[CV] C=1000, gamma=1.1, kernel=rbf ...................................\n",
      "[CV]  C=1000, gamma=1.1, kernel=rbf, score=0.9411764705882353, total=   0.0s\n",
      "[CV] C=1000, gamma=1.1, kernel=rbf ...................................\n",
      "[CV]  C=1000, gamma=1.1, kernel=rbf, score=0.9411764705882353, total=   0.0s\n",
      "[CV] C=1000, gamma=0.85, kernel=rbf ..................................\n",
      "[CV]  C=1000, gamma=0.85, kernel=rbf, score=0.918918918918919, total=   0.0s\n",
      "[CV] C=1000, gamma=0.85, kernel=rbf ..................................\n",
      "[CV]  C=1000, gamma=0.85, kernel=rbf, score=0.9411764705882353, total=   0.0s\n",
      "[CV] C=1000, gamma=0.85, kernel=rbf ..................................\n",
      "[CV]  C=1000, gamma=0.85, kernel=rbf, score=0.9117647058823529, total=   0.0s\n",
      "[CV] C=1000, gamma=0.9, kernel=rbf ...................................\n",
      "[CV]  C=1000, gamma=0.9, kernel=rbf, score=0.918918918918919, total=   0.0s\n",
      "[CV] C=1000, gamma=0.9, kernel=rbf ...................................\n",
      "[CV]  C=1000, gamma=0.9, kernel=rbf, score=0.9411764705882353, total=   0.0s\n",
      "[CV] C=1000, gamma=0.9, kernel=rbf ...................................\n",
      "[CV]  C=1000, gamma=0.9, kernel=rbf, score=0.9117647058823529, total=   0.0s\n",
      "[CV] C=1000, gamma=0.95, kernel=rbf ..................................\n",
      "[CV]  C=1000, gamma=0.95, kernel=rbf, score=0.918918918918919, total=   0.0s\n",
      "[CV] C=1000, gamma=0.95, kernel=rbf ..................................\n",
      "[CV]  C=1000, gamma=0.95, kernel=rbf, score=0.9411764705882353, total=   0.0s\n",
      "[CV] C=1000, gamma=0.95, kernel=rbf ..................................\n",
      "[CV]  C=1000, gamma=0.95, kernel=rbf, score=0.9117647058823529, total=   0.0s\n",
      "[CV] C=1000, gamma=0.1, kernel=rbf ...................................\n",
      "[CV]  C=1000, gamma=0.1, kernel=rbf, score=0.9459459459459459, total=   0.0s\n",
      "[CV] C=1000, gamma=0.1, kernel=rbf ...................................\n",
      "[CV]  C=1000, gamma=0.1, kernel=rbf, score=0.9117647058823529, total=   0.0s\n",
      "[CV] C=1000, gamma=0.1, kernel=rbf ...................................\n",
      "[CV]  C=1000, gamma=0.1, kernel=rbf, score=0.9117647058823529, total=   0.0s\n",
      "[CV] C=1000, gamma=0.01, kernel=rbf ..................................\n",
      "[CV]  C=1000, gamma=0.01, kernel=rbf, score=0.972972972972973, total=   0.0s\n",
      "[CV] C=1000, gamma=0.01, kernel=rbf ..................................\n",
      "[CV]  C=1000, gamma=0.01, kernel=rbf, score=0.9411764705882353, total=   0.0s\n",
      "[CV] C=1000, gamma=0.01, kernel=rbf ..................................\n",
      "[CV]  C=1000, gamma=0.01, kernel=rbf, score=0.9117647058823529, total=   0.0s\n",
      "[CV] C=1000, gamma=0.001, kernel=rbf .................................\n",
      "[CV]  C=1000, gamma=0.001, kernel=rbf, score=0.972972972972973, total=   0.0s\n",
      "[CV] C=1000, gamma=0.001, kernel=rbf .................................\n",
      "[CV]  C=1000, gamma=0.001, kernel=rbf, score=0.9411764705882353, total=   0.0s\n",
      "[CV] C=1000, gamma=0.001, kernel=rbf .................................\n",
      "[CV]  C=1000, gamma=0.001, kernel=rbf, score=0.9705882352941176, total=   0.0s\n",
      "[CV] C=1000, gamma=0.0001, kernel=rbf ................................\n",
      "[CV]  C=1000, gamma=0.0001, kernel=rbf, score=0.918918918918919, total=   0.0s\n",
      "[CV] C=1000, gamma=0.0001, kernel=rbf ................................\n",
      "[CV]  C=1000, gamma=0.0001, kernel=rbf, score=0.9705882352941176, total=   0.0s\n",
      "[CV] C=1000, gamma=0.0001, kernel=rbf ................................\n",
      "[CV]  C=1000, gamma=0.0001, kernel=rbf, score=0.9411764705882353, total=   0.0s\n"
     ]
    },
    {
     "name": "stderr",
     "output_type": "stream",
     "text": [
      "[Parallel(n_jobs=1)]: Done 351 out of 351 | elapsed:    0.9s finished\n"
     ]
    },
    {
     "data": {
      "text/plain": [
       "GridSearchCV(cv=None, error_score='raise',\n",
       "       estimator=SVC(C=1.0, cache_size=200, class_weight=None, coef0=0.0,\n",
       "  decision_function_shape='ovr', degree=3, gamma='auto', kernel='rbf',\n",
       "  max_iter=-1, probability=False, random_state=None, shrinking=True,\n",
       "  tol=0.001, verbose=False),\n",
       "       fit_params=None, iid=True, n_jobs=1,\n",
       "       param_grid={'C': [0.1, 0.8, 0.9, 1, 1.1, 1.2, 2, 1.9, 2.1, 3, 10, 100, 1000], 'gamma': [1, 1.1, 0.85, 0.9, 0.95, 0.1, 0.01, 0.001, 0.0001], 'kernel': ['rbf']},\n",
       "       pre_dispatch='2*n_jobs', refit=True, return_train_score='warn',\n",
       "       scoring=None, verbose=3)"
      ]
     },
     "execution_count": 21,
     "metadata": {},
     "output_type": "execute_result"
    }
   ],
   "source": [
    "grid = GridSearchCV(SVC(),param_grid,refit=True,verbose=3)\n",
    "grid.fit(X_train,y_train)"
   ]
  },
  {
   "cell_type": "markdown",
   "metadata": {},
   "source": [
    "** Now take that grid model and create some predictions using the test set and create classification reports and confusion matrices for them. Were you able to improve?**"
   ]
  },
  {
   "cell_type": "code",
   "execution_count": 22,
   "metadata": {
    "collapsed": true
   },
   "outputs": [],
   "source": [
    "grid.best_params_\n",
    "grid.best_estimator_\n",
    "grid_predictions = grid.predict(X_test)"
   ]
  },
  {
   "cell_type": "code",
   "execution_count": 23,
   "metadata": {},
   "outputs": [
    {
     "data": {
      "text/plain": [
       "{'C': 0.8, 'gamma': 1, 'kernel': 'rbf'}"
      ]
     },
     "execution_count": 23,
     "metadata": {},
     "output_type": "execute_result"
    }
   ],
   "source": [
    "grid.best_params_"
   ]
  },
  {
   "cell_type": "code",
   "execution_count": 24,
   "metadata": {},
   "outputs": [
    {
     "name": "stdout",
     "output_type": "stream",
     "text": [
      "[[16  0  0]\n",
      " [ 0 12  1]\n",
      " [ 0  1 15]]\n"
     ]
    }
   ],
   "source": [
    "print(confusion_matrix(y_test,grid_predictions))"
   ]
  },
  {
   "cell_type": "code",
   "execution_count": 25,
   "metadata": {},
   "outputs": [
    {
     "name": "stdout",
     "output_type": "stream",
     "text": [
      "             precision    recall  f1-score   support\n",
      "\n",
      "          0       1.00      1.00      1.00        16\n",
      "          1       0.92      0.92      0.92        13\n",
      "          2       0.94      0.94      0.94        16\n",
      "\n",
      "avg / total       0.96      0.96      0.96        45\n",
      "\n"
     ]
    }
   ],
   "source": [
    "print(classification_report(y_test,grid_predictions))"
   ]
  },
  {
   "cell_type": "markdown",
   "metadata": {},
   "source": [
    "You should have done about the same or exactly the same, this makes sense, there is basically just one point that is too noisey to grab, which makes sense, we don't want to have an overfit model that would be able to grab that."
   ]
  },
  {
   "cell_type": "markdown",
   "metadata": {},
   "source": [
    "## Great Job!"
   ]
  }
 ],
 "metadata": {
  "kernelspec": {
   "display_name": "Python 3",
   "language": "python",
   "name": "python3"
  },
  "language_info": {
   "codemirror_mode": {
    "name": "ipython",
    "version": 3
   },
   "file_extension": ".py",
   "mimetype": "text/x-python",
   "name": "python",
   "nbconvert_exporter": "python",
   "pygments_lexer": "ipython3",
   "version": "3.6.3"
  }
 },
 "nbformat": 4,
 "nbformat_minor": 1
}
